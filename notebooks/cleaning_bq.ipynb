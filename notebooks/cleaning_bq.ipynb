{
 "cells": [
  {
   "cell_type": "code",
   "execution_count": 36,
   "metadata": {},
   "outputs": [],
   "source": [
    "# libraries and credential\n",
    "\n",
    "import pandas as pd\n",
    "import uuid\n",
    "from google.cloud import bigquery\n",
    "\n",
    "\n",
    "service_account_path = r'..\\bot-recommendation-0568d5fe0b88.json'\n",
    "\n",
    "file_1 = r\"..\\data\\raw\\amz_uk_processed_data.csv\"\n",
    "df_amz_uk = pd.read_csv(file_1)"
   ]
  },
  {
   "cell_type": "code",
   "execution_count": 24,
   "metadata": {},
   "outputs": [
    {
     "name": "stdout",
     "output_type": "stream",
     "text": [
      "(2222742, 10)\n",
      "<class 'pandas.core.frame.DataFrame'>\n",
      "RangeIndex: 2222742 entries, 0 to 2222741\n",
      "Data columns (total 10 columns):\n",
      " #   Column             Dtype  \n",
      "---  ------             -----  \n",
      " 0   asin               object \n",
      " 1   title              object \n",
      " 2   imgUrl             object \n",
      " 3   productURL         object \n",
      " 4   stars              float64\n",
      " 5   reviews            int64  \n",
      " 6   price              float64\n",
      " 7   isBestSeller       bool   \n",
      " 8   boughtInLastMonth  int64  \n",
      " 9   categoryName       object \n",
      "dtypes: bool(1), float64(2), int64(2), object(5)\n",
      "memory usage: 154.7+ MB\n",
      "None\n",
      "boughtInLastMonth\n",
      "0        2061427\n",
      "50         63601\n",
      "100        44173\n",
      "200        17509\n",
      "300         9523\n",
      "400         5996\n",
      "1000        5424\n",
      "500         4059\n",
      "600         2815\n",
      "700         2030\n",
      "800         1594\n",
      "2000        1521\n",
      "900         1320\n",
      "3000         675\n",
      "4000         348\n",
      "5000         227\n",
      "10000        139\n",
      "6000         136\n",
      "7000          91\n",
      "8000          59\n",
      "9000          56\n",
      "20000         14\n",
      "50000          2\n",
      "30000          2\n",
      "40000          1\n",
      "Name: count, dtype: int64\n"
     ]
    }
   ],
   "source": [
    "print(df_amz_uk.shape)\n",
    "print(df_amz_uk.info())\n",
    "print(df_amz_uk['boughtInLastMonth'].value_counts())\n"
   ]
  },
  {
   "cell_type": "code",
   "execution_count": 25,
   "metadata": {},
   "outputs": [
    {
     "name": "stdout",
     "output_type": "stream",
     "text": [
      "  category_id            category_name\n",
      "0      000000           Hi-Fi Speakers\n",
      "1      000001  CD, Disc & Tape Players\n",
      "2      000002      Wearable Technology\n",
      "3      000003              Light Bulbs\n",
      "4      000004        Bathroom Lighting\n"
     ]
    }
   ],
   "source": [
    "# Extraire les catégories uniques\n",
    "df_categories = uk[['categoryName']].drop_duplicates().reset_index(drop=True)\n",
    "\n",
    "# Générer un identifiant unique pour chaque catégorie\n",
    "df_categories['category_id'] = df_categories.index.astype(str).str.zfill(6)  # Par exemple, '000001'\n",
    "\n",
    "# Réorganiser les colonnes\n",
    "df_categories = df_categories[['category_id', 'categoryName']]\n",
    "\n",
    "# Renommer les colonnes pour correspondre au schéma\n",
    "df_categories.rename(columns={'categoryName': 'category_name'}, inplace=True)\n",
    "\n",
    "# Afficher un aperçu\n",
    "print(df_categories.head())\n"
   ]
  },
  {
   "cell_type": "markdown",
   "metadata": {},
   "source": [
    "##  Création de la Table Categories\n"
   ]
  },
  {
   "cell_type": "code",
   "execution_count": 26,
   "metadata": {},
   "outputs": [
    {
     "name": "stdout",
     "output_type": "stream",
     "text": [
      "  category_id            category_name\n",
      "0      000000           Hi-Fi Speakers\n",
      "1      000001  CD, Disc & Tape Players\n",
      "2      000002      Wearable Technology\n",
      "3      000003              Light Bulbs\n",
      "4      000004        Bathroom Lighting\n"
     ]
    }
   ],
   "source": [
    "# Création de la table Categories\n",
    "df_categories = df_amz_uk[['categoryName']].drop_duplicates().reset_index(drop=True)\n",
    "df_categories['category_id'] = df_categories.index.astype(str).str.zfill(6)\n",
    "df_categories = df_categories[['category_id', 'categoryName']]\n",
    "df_categories.rename(columns={'categoryName': 'category_name'}, inplace=True)\n",
    "\n",
    "# Afficher un aperçu\n",
    "print(df_categories.head())\n"
   ]
  },
  {
   "cell_type": "markdown",
   "metadata": {},
   "source": [
    "## Création de la Table Products"
   ]
  },
  {
   "cell_type": "code",
   "execution_count": 27,
   "metadata": {},
   "outputs": [
    {
     "data": {
      "text/plain": [
       "Index(['asin', 'title', 'imgUrl', 'productURL', 'stars', 'reviews', 'price',\n",
       "       'isBestSeller', 'boughtInLastMonth', 'categoryName'],\n",
       "      dtype='object')"
      ]
     },
     "execution_count": 27,
     "metadata": {},
     "output_type": "execute_result"
    }
   ],
   "source": [
    "df_amz_uk.columns"
   ]
  },
  {
   "cell_type": "code",
   "execution_count": 28,
   "metadata": {},
   "outputs": [
    {
     "name": "stdout",
     "output_type": "stream",
     "text": [
      "Nombre de produits sans catégorie correspondante : 0\n",
      "         asin                                              title  \\\n",
      "0  B09B96TG33  Echo Dot (5th generation, 2022 release) | Big ...   \n",
      "1  B01HTH3C8S  Anker Soundcore mini, Super-Portable Bluetooth...   \n",
      "2  B09B8YWXDF  Echo Dot (5th generation, 2022 release) | Big ...   \n",
      "3  B09B8T5VGV  Echo Dot with clock (5th generation, 2022 rele...   \n",
      "4  B09WX6QD65  Introducing Echo Pop | Full sound compact Wi-F...   \n",
      "\n",
      "                                             img_url  \\\n",
      "0  https://m.media-amazon.com/images/I/71C3lbbeLs...   \n",
      "1  https://m.media-amazon.com/images/I/61c5rSxwP0...   \n",
      "2  https://m.media-amazon.com/images/I/61j3SEUjMJ...   \n",
      "3  https://m.media-amazon.com/images/I/71yf6yTNWS...   \n",
      "4  https://m.media-amazon.com/images/I/613dEoF9-r...   \n",
      "\n",
      "                              product_url  price  is_best_seller category_id  \n",
      "0  https://www.amazon.co.uk/dp/B09B96TG33  21.99           False      000000  \n",
      "1  https://www.amazon.co.uk/dp/B01HTH3C8S  23.99            True      000000  \n",
      "2  https://www.amazon.co.uk/dp/B09B8YWXDF  21.99           False      000000  \n",
      "3  https://www.amazon.co.uk/dp/B09B8T5VGV  31.99           False      000000  \n",
      "4  https://www.amazon.co.uk/dp/B09WX6QD65  17.99           False      000000  \n"
     ]
    }
   ],
   "source": [
    "# Fusionner en spécifiant les colonnes respectives\n",
    "df_products = df_amz_uk.merge(\n",
    "    df_categories,\n",
    "    left_on='categoryName',\n",
    "    right_on='category_name',\n",
    "    how='left'\n",
    ")\n",
    "\n",
    "# Vérifier s'il y a des correspondances manquantes\n",
    "missing_categories = df_products[df_products['category_id'].isnull()]\n",
    "print(f\"Nombre de produits sans catégorie correspondante : {len(missing_categories)}\")\n",
    "\n",
    "# Si nécessaire, gérer les catégories manquantes\n",
    "if len(missing_categories) > 0:\n",
    "    print(\"Certaines catégories n'ont pas de correspondance. Vous pouvez les traiter comme suit :\")\n",
    "    # Exemple : attribuer une catégorie par défaut\n",
    "    df_products['category_id'].fillna('000000', inplace=True)\n",
    "\n",
    "# Sélectionner les colonnes pertinentes\n",
    "df_products = df_products[['asin', 'title', 'imgUrl', 'productURL', 'price', 'isBestSeller', 'category_id']]\n",
    "\n",
    "# Renommer les colonnes pour correspondre au schéma\n",
    "df_products.rename(columns={\n",
    "    'imgUrl': 'img_url',\n",
    "    'productURL': 'product_url',\n",
    "    'isBestSeller': 'is_best_seller'\n",
    "}, inplace=True)\n",
    "\n",
    "# Supprimer les doublons si nécessaire\n",
    "df_products.drop_duplicates(subset=['asin'], inplace=True)\n",
    "\n",
    "# Afficher un aperçu des données\n",
    "print(df_products.head())\n",
    "\n"
   ]
  },
  {
   "cell_type": "code",
   "execution_count": 29,
   "metadata": {},
   "outputs": [
    {
     "name": "stdout",
     "output_type": "stream",
     "text": [
      "Nombre de produits sans catégorie correspondante : 0\n",
      "Toutes les catégories sont correctement associées.\n"
     ]
    }
   ],
   "source": [
    "# Vérifier que tous les 'category_id' dans 'Products' existent dans 'Categories'\n",
    "missing_categories = df_products[df_products['category_id'].isnull()]\n",
    "print(f\"Nombre de produits sans catégorie correspondante : {len(missing_categories)}\")\n",
    "\n",
    "if len(missing_categories) == 0:\n",
    "    print(\"Toutes les catégories sont correctement associées.\")\n",
    "else:\n",
    "    print(\"Certaines catégories sont manquantes. Vérifiez les données.\")\n"
   ]
  },
  {
   "cell_type": "markdown",
   "metadata": {},
   "source": [
    "## Création de la Table Rating"
   ]
  },
  {
   "cell_type": "code",
   "execution_count": 30,
   "metadata": {},
   "outputs": [
    {
     "name": "stdout",
     "output_type": "stream",
     "text": [
      "         asin  stars  reviews\n",
      "0  B09B96TG33    4.7    15308\n",
      "1  B01HTH3C8S    4.7    98099\n",
      "2  B09B8YWXDF    4.7    15308\n",
      "3  B09B8T5VGV    4.7     7205\n",
      "4  B09WX6QD65    4.6     1881\n"
     ]
    }
   ],
   "source": [
    "# Création de la table Ratings\n",
    "df_ratings = df_amz_uk[['asin', 'stars', 'reviews']].copy()\n",
    "df_ratings.drop_duplicates(subset=['asin'], inplace=True)\n",
    "\n",
    "# Afficher un aperçu\n",
    "print(df_ratings.head())\n"
   ]
  },
  {
   "cell_type": "markdown",
   "metadata": {},
   "source": [
    "## Création de la Table Sales"
   ]
  },
  {
   "cell_type": "code",
   "execution_count": 31,
   "metadata": {},
   "outputs": [
    {
     "name": "stdout",
     "output_type": "stream",
     "text": [
      "         asin  bought_in_last_month\n",
      "0  B09B96TG33                     0\n",
      "1  B01HTH3C8S                     0\n",
      "2  B09B8YWXDF                     0\n",
      "3  B09B8T5VGV                     0\n",
      "4  B09WX6QD65                     0\n"
     ]
    }
   ],
   "source": [
    "# Création de la table Sales\n",
    "df_sales = df_amz_uk[['asin', 'boughtInLastMonth']].copy()\n",
    "df_sales.rename(columns={'boughtInLastMonth': 'bought_in_last_month'}, inplace=True)\n",
    "df_sales.drop_duplicates(subset=['asin'], inplace=True)\n",
    "\n",
    "# Afficher un aperçu\n",
    "print(df_sales.head())\n"
   ]
  },
  {
   "cell_type": "markdown",
   "metadata": {},
   "source": [
    "## Init BQ\n"
   ]
  },
  {
   "cell_type": "code",
   "execution_count": 38,
   "metadata": {},
   "outputs": [
    {
     "name": "stdout",
     "output_type": "stream",
     "text": [
      "Tables dans le dataset amazonuk_data:\n"
     ]
    }
   ],
   "source": [
    "# Initialiser le client BigQuery avec le fichier de clé JSON\n",
    "client = bigquery.Client.from_service_account_json(service_account_path)\n",
    "\n",
    "# Définir le projet et le dataset\n",
    "project_id = 'bot-recommendation'  # Remplacez par votre ID de projet\n",
    "dataset_id = 'amazonuk_data'\n",
    "dataset_ref = client.dataset(dataset_id, project=project_id)\n",
    "\n",
    "# Exemple de vérification : Lister les tables dans le dataset\n",
    "tables = client.list_tables(dataset_ref)\n",
    "print(f\"Tables dans le dataset {dataset_id}:\")\n",
    "for table in tables:\n",
    "    print(table.table_id)"
   ]
  },
  {
   "cell_type": "markdown",
   "metadata": {},
   "source": [
    "## definition du schéma "
   ]
  },
  {
   "cell_type": "code",
   "execution_count": 39,
   "metadata": {},
   "outputs": [
    {
     "name": "stdout",
     "output_type": "stream",
     "text": [
      "Table Categories créée.\n",
      "Table Products créée.\n",
      "Table Ratings créée.\n",
      "Table Sales créée.\n",
      "Données chargées dans la table Categories.\n",
      "Données chargées dans la table Products.\n",
      "Données chargées dans la table Ratings.\n",
      "Données chargées dans la table Sales.\n"
     ]
    }
   ],
   "source": [
    "# Définition des schémas\n",
    "schema_categories = [\n",
    "    bigquery.SchemaField(\"category_id\", \"STRING\", mode=\"REQUIRED\"),\n",
    "    bigquery.SchemaField(\"category_name\", \"STRING\", mode=\"REQUIRED\"),\n",
    "]\n",
    "\n",
    "schema_products = [\n",
    "    bigquery.SchemaField(\"asin\", \"STRING\", mode=\"REQUIRED\"),\n",
    "    bigquery.SchemaField(\"title\", \"STRING\", mode=\"NULLABLE\"),\n",
    "    bigquery.SchemaField(\"img_url\", \"STRING\", mode=\"NULLABLE\"),\n",
    "    bigquery.SchemaField(\"product_url\", \"STRING\", mode=\"NULLABLE\"),\n",
    "    bigquery.SchemaField(\"price\", \"FLOAT\", mode=\"NULLABLE\"),\n",
    "    bigquery.SchemaField(\"is_best_seller\", \"BOOLEAN\", mode=\"NULLABLE\"),\n",
    "    bigquery.SchemaField(\"category_id\", \"STRING\", mode=\"REQUIRED\"),\n",
    "]\n",
    "\n",
    "schema_ratings = [\n",
    "    bigquery.SchemaField(\"asin\", \"STRING\", mode=\"REQUIRED\"),\n",
    "    bigquery.SchemaField(\"stars\", \"FLOAT\", mode=\"NULLABLE\"),\n",
    "    bigquery.SchemaField(\"reviews\", \"INTEGER\", mode=\"NULLABLE\"),\n",
    "]\n",
    "\n",
    "schema_sales = [\n",
    "    bigquery.SchemaField(\"asin\", \"STRING\", mode=\"REQUIRED\"),\n",
    "    bigquery.SchemaField(\"bought_in_last_month\", \"INTEGER\", mode=\"NULLABLE\"),\n",
    "]\n",
    "\n",
    "# Fonction pour créer une table\n",
    "def create_table(table_name, schema):\n",
    "    table_ref = dataset_ref.table(table_name)\n",
    "    try:\n",
    "        table = bigquery.Table(table_ref, schema=schema)\n",
    "        table = client.create_table(table)\n",
    "        print(f\"Table {table_name} créée.\")\n",
    "    except Exception as e:\n",
    "        print(f\"Erreur lors de la création de la table {table_name}: {e}\")\n",
    "\n",
    "# Créer les tables\n",
    "create_table('Categories', schema_categories)\n",
    "create_table('Products', schema_products)\n",
    "create_table('Ratings', schema_ratings)\n",
    "create_table('Sales', schema_sales)\n",
    "\n",
    "# Fonction pour charger un DataFrame dans BigQuery\n",
    "def load_dataframe_to_bq(df, table_name):\n",
    "    table_ref = dataset_ref.table(table_name)\n",
    "    job = client.load_table_from_dataframe(\n",
    "        df, table_ref\n",
    "    )\n",
    "    job.result()  # Attendre la fin du job\n",
    "    print(f\"Données chargées dans la table {table_name}.\")\n",
    "\n",
    "# Charger les données\n",
    "load_dataframe_to_bq(df_categories, 'Categories')\n",
    "load_dataframe_to_bq(df_products, 'Products')\n",
    "load_dataframe_to_bq(df_ratings, 'Ratings')\n",
    "load_dataframe_to_bq(df_sales, 'Sales')"
   ]
  },
  {
   "cell_type": "code",
   "execution_count": null,
   "metadata": {},
   "outputs": [],
   "source": []
  }
 ],
 "metadata": {
  "kernelspec": {
   "display_name": "base",
   "language": "python",
   "name": "python3"
  },
  "language_info": {
   "codemirror_mode": {
    "name": "ipython",
    "version": 3
   },
   "file_extension": ".py",
   "mimetype": "text/x-python",
   "name": "python",
   "nbconvert_exporter": "python",
   "pygments_lexer": "ipython3",
   "version": "3.12.4"
  }
 },
 "nbformat": 4,
 "nbformat_minor": 2
}
